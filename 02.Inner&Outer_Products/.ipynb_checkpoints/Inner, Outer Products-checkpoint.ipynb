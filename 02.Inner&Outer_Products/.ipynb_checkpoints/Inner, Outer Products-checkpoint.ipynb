{
 "cells": [
  {
   "cell_type": "markdown",
   "id": "7d86101b-7b70-4637-8a50-81c9b23d51df",
   "metadata": {},
   "source": [
    "# Linear Algebra (Contd .) :"
   ]
  },
  {
   "cell_type": "markdown",
   "id": "58c0e31d-e572-4c42-be13-02caabe05a5f",
   "metadata": {
    "jp-MarkdownHeadingCollapsed": true
   },
   "source": [
    "## Inner Product :"
   ]
  },
  {
   "attachments": {
    "d2842705-e5f5-402c-84c7-44111ee1878b.jpg": {
     "image/jpeg": "[encoded data removed]"
    }
   },
   "cell_type": "markdown",
   "id": "b4cf0bd0-62cb-4d9f-b010-4907c1f8deb5",
   "metadata": {},
   "source": [
    "This Operation applies **bra-phi** $\\langle\\Phi|$ to **Ket-si** $|\\psi\\rangle$ and this is an inner product of both the vectors or better can be interpreted as the **Dot product of both the vectors**.\n",
    "\n",
    "![Bra-Ket_notation.jpg](attachment:d2842705-e5f5-402c-84c7-44111ee1878b.jpg)\n",
    "\n",
    "$\\langle A|B\\rangle$ = inner product of $|A\\rangle$ with $|B\\rangle$\n",
    "$$\\boxed{\\langle A|B\\rangle = \\sum_{n=1}^{N} {a_n}^*{e_n}^* {a_n}{e_n} = \\begin{pmatrix}{a_1}^* & {a_2}^* & \\ldots &{a_N}^* \\end{pmatrix} \\begin{pmatrix}b_1 \\\\ b_2\\\\ \\vdots \\\\ b_N \\end{pmatrix} = {a_1}^* b_1 + {a_2}^* b_2 + \\ldots + {a_N}^* b_N}$$\n",
    "\n",
    "```text\n",
    "Inner Product always gives scalar value as output.\n",
    "```\n",
    "\n",
    "$$\\implies {a_n}^* \\rightarrow conjugate(a_i)$$\n",
    "$$\\implies \\langle A| \\rightarrow conjugate(|A\\rangle) = bra-A$$\n",
    "\n",
    "**Example :**\n",
    "\n",
    "$$|0\\rangle=\\begin{pmatrix}1 \\\\0 \\end{pmatrix} \\implies \\langle 0|=\\begin{pmatrix}1 & 0\\end{pmatrix}$$\n",
    "$$\\therefore \\langle 0|0\\rangle = \\begin{pmatrix}1 & 0\\end{pmatrix}\\begin{pmatrix}1 \\\\0 \\end{pmatrix} = 1$$\n",
    "\n",
    "Similarly,\n",
    "$$|1\\rangle=\\begin{pmatrix}0 \\\\1 \\end{pmatrix} \\implies \\langle 1|=\\begin{pmatrix}0 & 1\\end{pmatrix}$$\n",
    "$$\\therefore \\langle 1|0\\rangle = \\begin{pmatrix}0 & 1\\end{pmatrix}\\begin{pmatrix}1 \\\\0 \\end{pmatrix} = 0$$\n",
    "\n",
    "- If the inner product of any two unequal vectors (i.e bra-ket operation of two vectors) is **0** then the vectors are Orthogonal to each other.\n",
    "\n",
    "- The inner product of any two same vectors is always **1** which is the indication for the normalization. All quantum states are always normalized."
   ]
  },
  {
   "cell_type": "markdown",
   "id": "651c877b-c11b-4586-a17a-500ba7992033",
   "metadata": {
    "jp-MarkdownHeadingCollapsed": true
   },
   "source": [
    "## Outer Product :"
   ]
  },
  {
   "cell_type": "markdown",
   "id": "562ab5c9-436e-49cc-9003-49fe701af436",
   "metadata": {},
   "source": [
    "$|A\\rangle\\langle B|$ = Outer-product of **A and B**.\n",
    "\n",
    "They are extremely useful in describing **density operators**, **quantum-gates**, etc.\n",
    "\n",
    "```text\n",
    "Outer Product will always give square matrix as the result.\n",
    "```\n",
    "\n",
    "**Example :**\n",
    "\n",
    "A not gate is expressed as $$\\mathsf{NOT}=|0\\rangle\\langle 1| + |1\\rangle\\langle 0|$$\n",
    "\n",
    "$$|0\\rangle =\\begin{pmatrix}1 \\\\ 0 \\end{pmatrix} \\implies \\langle 0| =\\begin{pmatrix}1 & 0\\end{pmatrix}$$\n",
    "\n",
    "Similiarly,\n",
    "\n",
    "$$|1\\rangle =\\begin{pmatrix}0 \\\\ 1 \\end{pmatrix} \\implies \\langle 1| =\\begin{pmatrix}0 & 1\\end{pmatrix}$$\n",
    "\n",
    "$$\\therefore |0\\rangle\\langle 1| = \\begin{pmatrix}1 \\\\ 0 \\end{pmatrix}\\begin{pmatrix}0 & 1\\end{pmatrix} = \\begin{pmatrix}0 & 1\\\\0 & 0\\end{pmatrix}$$\n",
    "\n",
    "$$\\therefore |1\\rangle\\langle 0| = \\begin{pmatrix}0 \\\\ 1 \\end{pmatrix}\\begin{pmatrix}1 & 0\\end{pmatrix} = \\begin{pmatrix}0 & 0\\\\1 & 0\\end{pmatrix}.$$\n",
    "\n",
    "Thus,\n",
    "\n",
    "$$\\boxed{\\mathsf{NOT}=|0\\rangle\\langle 1| + |1\\rangle\\langle 0| = \\begin{pmatrix}0 & 1\\\\0 & 0\\end{pmatrix} + \\begin{pmatrix}0 & 0\\\\1 & 0\\end{pmatrix} = \\begin{pmatrix}0 & 1\\\\1 & 0\\end{pmatrix}}$$\n",
    "\n",
    "$$ \\boxed{\\color{red}{Ket-Bra \\ \\vert\\Psi\\rangle\\langle\\Phi\\lvert \\ = \\ \\begin{bmatrix}a_1 \\\\ a_2\\\\ . \\\\ .\\\\ .\\\\ a_n \\end{bmatrix}\\ \\begin{bmatrix}b_1^* & b_2* & . & . & . & b_n* \\end{bmatrix}\\ = \\begin{bmatrix}a_1b_1^* & a_1b_2^* & . & . & . & a_1b_N* \\\\ a_2b_1^* & a_2b_2^* & . & . & . & a_2b_N* \\\\ . \\\\ . \\\\ . \\\\ a_Nb_1^* & a_Nb_2^* & . & . & . & a_Nb_N* \\end{bmatrix} }}$$"
   ]
  },
  {
   "cell_type": "markdown",
   "id": "3ab861c3-fcf6-42b5-b43f-ca60a7d8deed",
   "metadata": {},
   "source": [
    "## Why the conversion of Ket-to-bra or bra-to-ket is required for a vector?"
   ]
  },
  {
   "cell_type": "markdown",
   "id": "32b3f976-1561-4a26-897e-7bccdebbad60",
   "metadata": {},
   "source": [
    "In general, the vectors are represented in Ket format only i.e., as column matrix.\n",
    "But if we want to perform any operation on that vector i.e, KET we cannot directly multiply another column matrix to a column matrix.\n",
    "So the corresponding operation is converted into row matrix from column matrix. When we mulitply row matrix with column matrix we get the result. \n",
    "\n",
    "In quantum mechanics, the state of a system is represented by a ket vector, usually denoted as $|\\psi\\rangle$. These ket vectors are column matrices.\n",
    "\n",
    "A bra vector, denoted as $\\langle\\psi|$, is the complex conjugate transpose of the corresponding ket vector. In other words, if $|\\psi\\rangle$ is a column vector, then $\\langle\\psi|$ is a row vector obtained by taking the conjugate transpose of $|\\psi\\rangle$.\n",
    "\n",
    "When we perform operations involving kets, such as inner products or transformations, it's often necessary to use the complex conjugate of one of the vectors involved in the operation. This is where the bra-ket conversion comes in.\n",
    "\n",
    "For example, to calculate the inner product of two vectors $|\\psi\\rangle$ and $|\\phi\\rangle$, we typically write it as $\\langle\\psi|\\phi\\rangle$. To do this, we need to convert one of the kets into a bra, so the operation can be performed properly.\n",
    "\n",
    "Let's say we have:\n",
    "\n",
    "$$\n",
    "\\vert \\psi \\rangle = \\begin{pmatrix}\n",
    "\\psi_1 \\\\\n",
    "\\psi_2 \\\\\n",
    "\\vdots \\\\\n",
    "\\psi_n\n",
    "\\end{pmatrix}\n",
    "$$\n",
    "\n",
    "\n",
    "Then, the corresponding bra vector is:\n",
    "\n",
    "$ \\langle \\psi \\vert = (\\psi_1^*, \\psi_2^*, \\ldots, \\psi_n^*) $\n",
    "\n",
    "\n",
    "where $\\psi_i^*$ represents the complex conjugate of $\\psi_n$.\n",
    "\n",
    "Similarly, if we have a ket vector $|\\phi\\rangle$:\n",
    "\n",
    "$$ \\vert \\phi \\rangle = \\begin{pmatrix}\n",
    "\\phi_1 \\\\\n",
    "\\phi_2 \\\\\n",
    "\\vdots \\\\\n",
    "\\phi_n\n",
    "\\end{pmatrix} $$\n",
    "\n",
    "\n",
    "Then, the corresponding bra vector is:\n",
    "$ \\langle \\phi \\vert = (\\phi_1^*, \\phi_2^*, \\ldots, \\phi_n^*) $\n",
    "\n",
    "Once we have the bra vector, we can perform operations such as inner products by taking the dot product of the bra and ket vectors, or transformations by multiplying the bra and ket matrices.\n",
    "\n",
    "So, the conversion between ket and bra notation, along with complex conjugate matrices, enables us to perform various operations in quantum mechanics."
   ]
  },
  {
   "cell_type": "markdown",
   "id": "9fb1fb28-c2e1-4330-aefb-03a506b8f3be",
   "metadata": {},
   "source": [
    "## Examples :"
   ]
  },
  {
   "cell_type": "markdown",
   "id": "b4f65563-bbe1-4e34-9e75-ebe0ee5d230e",
   "metadata": {},
   "source": [
    "### Inner Product :"
   ]
  },
  {
   "cell_type": "markdown",
   "id": "373217da-214f-4f57-bc30-777ed91c9d85",
   "metadata": {},
   "source": [
    "**Method -1 :**"
   ]
  },
  {
   "cell_type": "code",
   "execution_count": 1,
   "id": "4893c2b2-ee5e-4d1e-92ed-ff2b483ea017",
   "metadata": {},
   "outputs": [],
   "source": [
    "from qiskit.quantum_info import Statevector, Operator"
   ]
  },
  {
   "cell_type": "code",
   "execution_count": 2,
   "id": "d506eceb-8439-4dcb-9152-e6ede586994d",
   "metadata": {},
   "outputs": [
    {
     "data": {
      "text/latex": [
       "$$ |0\\rangle$$"
      ],
      "text/plain": [
       "<IPython.core.display.Latex object>"
      ]
     },
     "execution_count": 2,
     "metadata": {},
     "output_type": "execute_result"
    }
   ],
   "source": [
    "q1 = Statevector.from_label(\"0\")\n",
    "q1.draw('latex')"
   ]
  },
  {
   "attachments": {
    "8b006857-fc9b-437b-8287-b2eb04f58bce.png": {
     "image/png": "[encoded data removed]"
    }
   },
   "cell_type": "markdown",
   "id": "7206e438-c36c-405c-9b42-365a84b32031",
   "metadata": {},
   "source": [
    "![Inner_Product.png](attachment:8b006857-fc9b-437b-8287-b2eb04f58bce.png)"
   ]
  },
  {
   "cell_type": "code",
   "execution_count": 3,
   "id": "894baf91-c03a-48bc-befa-7e1a1138775a",
   "metadata": {},
   "outputs": [
    {
     "data": {
      "text/plain": [
       "(1+0j)"
      ]
     },
     "execution_count": 3,
     "metadata": {},
     "output_type": "execute_result"
    }
   ],
   "source": [
    "q1.inner(q1)"
   ]
  },
  {
   "cell_type": "markdown",
   "id": "89bc5ccc-89bf-45ad-b029-ac0f342ae24c",
   "metadata": {},
   "source": [
    "**Method 2 :**"
   ]
  },
  {
   "cell_type": "code",
   "execution_count": 4,
   "id": "71cf540f-32fb-460b-a49e-487ec06e67bc",
   "metadata": {},
   "outputs": [
    {
     "name": "stdout",
     "output_type": "stream",
     "text": [
      "vector_a = [[1]\n",
      " [0]]\n",
      "vector_b = [[1 0]]\n"
     ]
    }
   ],
   "source": [
    "import numpy as geek \n",
    "\n",
    "# 1D array \n",
    "vector_a = geek.array([[1], [0]]) \n",
    "vector_b = geek.array([[1, 0]]) \n",
    "\n",
    "print(\"vector_a =\",vector_a)\n",
    "print(\"vector_b =\",vector_b)"
   ]
  },
  {
   "cell_type": "code",
   "execution_count": 5,
   "id": "7615b868-4d2b-4f96-8e75-dbaff0a23a14",
   "metadata": {},
   "outputs": [
    {
     "name": "stdout",
     "output_type": "stream",
     "text": [
      "Inner product = [[1]]\n"
     ]
    }
   ],
   "source": [
    "Inner_product = geek.matmul(vector_b,vector_a)\n",
    "print(\"Inner product =\",Inner_product)"
   ]
  },
  {
   "cell_type": "markdown",
   "id": "33a96744-d013-4051-a8dd-ee6d9b800fd0",
   "metadata": {},
   "source": [
    "### Outer Product :"
   ]
  },
  {
   "cell_type": "markdown",
   "id": "52a7030a-0e17-439e-b6ad-6a3599d1559b",
   "metadata": {},
   "source": [
    "#### Method-1 :"
   ]
  },
  {
   "cell_type": "code",
   "execution_count": 1,
   "id": "059ba26a-67a7-45f2-aa2a-5f3150a0bc60",
   "metadata": {},
   "outputs": [
    {
     "data": {
      "text/latex": [
       "$$\n",
       "\n",
       "\\begin{bmatrix}\n",
       "1 & 0  \\\\\n",
       " 0 & 0  \\\\\n",
       " \\end{bmatrix}\n",
       "$$"
      ],
      "text/plain": [
       "<IPython.core.display.Latex object>"
      ]
     },
     "execution_count": 1,
     "metadata": {},
     "output_type": "execute_result"
    }
   ],
   "source": [
    "from qiskit.quantum_info import Statevector, DensityMatrix\n",
    "q1 = Statevector.from_label(\"0\")\n",
    "q1= DensityMatrix(q1)\n",
    "q1.draw('latex')"
   ]
  },
  {
   "cell_type": "markdown",
   "id": "c4d8cbf8-6369-44a3-a2e0-f0e8fa11a3be",
   "metadata": {},
   "source": [
    "#### Method -2 :"
   ]
  },
  {
   "cell_type": "code",
   "execution_count": 6,
   "id": "de0093ab-8169-421a-8cdc-463d7687cf92",
   "metadata": {},
   "outputs": [
    {
     "name": "stdout",
     "output_type": "stream",
     "text": [
      "Outer product =  [[1 0]\n",
      " [0 0]]\n"
     ]
    }
   ],
   "source": [
    "Outer_product = geek.matmul(vector_a,vector_b)\n",
    "print(\"Outer product = \",Outer_product)"
   ]
  }
 ],
 "metadata": {
  "kernelspec": {
   "display_name": "Python 3 (ipykernel)",
   "language": "python",
   "name": "python3"
  },
  "language_info": {
   "codemirror_mode": {
    "name": "ipython",
    "version": 3
   },
   "file_extension": ".py",
   "mimetype": "text/x-python",
   "name": "python",
   "nbconvert_exporter": "python",
   "pygments_lexer": "ipython3",
   "version": "3.10.4"
  }
 },
 "nbformat": 4,
 "nbformat_minor": 5
}
